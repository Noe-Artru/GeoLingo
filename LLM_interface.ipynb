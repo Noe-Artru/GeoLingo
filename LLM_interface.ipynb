{
  "nbformat": 4,
  "nbformat_minor": 0,
  "metadata": {
    "colab": {
      "provenance": []
    },
    "kernelspec": {
      "name": "python3",
      "display_name": "Python 3"
    },
    "language_info": {
      "name": "python"
    }
  },
  "cells": [
    {
      "cell_type": "markdown",
      "source": [
        "# Installation"
      ],
      "metadata": {
        "id": "3BsHLvatMMBp"
      }
    },
    {
      "cell_type": "code",
      "source": [
        "!pip install -q openai\n",
        "!pip install -q gradio"
      ],
      "metadata": {
        "id": "EEuRe-IZGfcO",
        "colab": {
          "base_uri": "https://localhost:8080/"
        },
        "outputId": "43455c42-5307-4e87-d2fe-877daef27253"
      },
      "execution_count": 1,
      "outputs": [
        {
          "output_type": "stream",
          "name": "stdout",
          "text": [
            "\u001b[2K   \u001b[90m━━━━━━━━━━━━━━━━━━━━━━━━━━━━━━━━━━━━━━━━\u001b[0m \u001b[32m57.1/57.1 MB\u001b[0m \u001b[31m11.3 MB/s\u001b[0m eta \u001b[36m0:00:00\u001b[0m\n",
            "\u001b[2K   \u001b[90m━━━━━━━━━━━━━━━━━━━━━━━━━━━━━━━━━━━━━━━━\u001b[0m \u001b[32m320.1/320.1 kB\u001b[0m \u001b[31m14.0 MB/s\u001b[0m eta \u001b[36m0:00:00\u001b[0m\n",
            "\u001b[2K   \u001b[90m━━━━━━━━━━━━━━━━━━━━━━━━━━━━━━━━━━━━━━━━\u001b[0m \u001b[32m94.9/94.9 kB\u001b[0m \u001b[31m7.2 MB/s\u001b[0m eta \u001b[36m0:00:00\u001b[0m\n",
            "\u001b[2K   \u001b[90m━━━━━━━━━━━━━━━━━━━━━━━━━━━━━━━━━━━━━━━━\u001b[0m \u001b[32m11.1/11.1 MB\u001b[0m \u001b[31m100.9 MB/s\u001b[0m eta \u001b[36m0:00:00\u001b[0m\n",
            "\u001b[2K   \u001b[90m━━━━━━━━━━━━━━━━━━━━━━━━━━━━━━━━━━━━━━━━\u001b[0m \u001b[32m73.2/73.2 kB\u001b[0m \u001b[31m5.4 MB/s\u001b[0m eta \u001b[36m0:00:00\u001b[0m\n",
            "\u001b[2K   \u001b[90m━━━━━━━━━━━━━━━━━━━━━━━━━━━━━━━━━━━━━━━━\u001b[0m \u001b[32m63.8/63.8 kB\u001b[0m \u001b[31m4.6 MB/s\u001b[0m eta \u001b[36m0:00:00\u001b[0m\n",
            "\u001b[2K   \u001b[90m━━━━━━━━━━━━━━━━━━━━━━━━━━━━━━━━━━━━━━━━\u001b[0m \u001b[32m130.2/130.2 kB\u001b[0m \u001b[31m8.9 MB/s\u001b[0m eta \u001b[36m0:00:00\u001b[0m\n",
            "\u001b[?25h"
          ]
        }
      ]
    },
    {
      "cell_type": "markdown",
      "source": [
        "# Imports"
      ],
      "metadata": {
        "id": "unIGGtl_MO4u"
      }
    },
    {
      "cell_type": "code",
      "source": [
        "import openai\n",
        "import gradio as gr"
      ],
      "metadata": {
        "id": "dOxJoWGvLFne"
      },
      "execution_count": 2,
      "outputs": []
    },
    {
      "cell_type": "markdown",
      "source": [
        "# API Key\n",
        "\n",
        "openai.api_key = Replace this with your API key: https://beta.openai.com/docs/quickstart/add-your-api-key\n"
      ],
      "metadata": {
        "id": "XRwvS_F2MYCZ"
      }
    },
    {
      "cell_type": "code",
      "source": [
        "openai.api_key = \"\""
      ],
      "metadata": {
        "id": "ev3uSJn_MUdv"
      },
      "execution_count": 3,
      "outputs": []
    },
    {
      "cell_type": "markdown",
      "source": [
        "# OpenAI Chat"
      ],
      "metadata": {
        "id": "cfpMV1W7MdBW"
      }
    },
    {
      "cell_type": "code",
      "source": [
        "# First install additional requirements\n",
        "!pip install -q openai gradio gtts\n",
        "\n",
        "import os\n",
        "import openai\n",
        "import gradio as gr\n",
        "from typing import Dict, List, Optional\n",
        "from enum import Enum\n",
        "from gtts import gTTS\n",
        "import tempfile\n",
        "import json\n",
        "from pathlib import Path\n",
        "os.environ[\"OPENAI_API_KEY\"] = openai.api_key  # Replace with your actual key\n",
        "client = openai.OpenAI(api_key=os.getenv(\"OPENAI_API_KEY\"))\n",
        "\n",
        "\n",
        "# Create temp directory for audio files\n",
        "AUDIO_DIR = Path(\"content/temp_audio\")\n",
        "AUDIO_DIR.mkdir(parents=True, exist_ok=True)\n",
        "\n",
        "# Language codes mapping\n",
        "LANGUAGES = {\n",
        "    \"Japanese\": {\"code\": \"ja\", \"tts_code\": \"ja\"},\n",
        "    \"French\": {\"code\": \"fr\", \"tts_code\": \"fr\"},\n",
        "    \"Spanish\": {\"code\": \"es\", \"tts_code\": \"es\"},\n",
        "    \"German\": {\"code\": \"de\", \"tts_code\": \"de\"},\n",
        "    \"Italian\": {\"code\": \"it\", \"tts_code\": \"it\"},\n",
        "    \"Chinese\": {\"code\": \"zh\", \"tts_code\": \"zh-CN\"},\n",
        "    \"Korean\": {\"code\": \"ko\", \"tts_code\": \"ko\"}\n",
        "}\n",
        "\n",
        "def text_to_speech(text: str, language: str) -> str:\n",
        "    \"\"\"Convert text to speech using correct language code\"\"\"\n",
        "    try:\n",
        "        # Get language code for TTS\n",
        "        lang_code = LANGUAGES[language][\"tts_code\"]\n",
        "\n",
        "        # Clean up the text (remove any labels and extra text)\n",
        "        cleaned_text = text.split(':')[-1].strip()\n",
        "        cleaned_text = cleaned_text.split('(')[0].strip()  # Remove pronunciation guide if present\n",
        "\n",
        "        # Create a file path in the temp directory\n",
        "        audio_path = AUDIO_DIR / f\"speech_{hash(text)}.mp3\"\n",
        "\n",
        "        # Generate speech\n",
        "        tts = gTTS(text=cleaned_text, lang=lang_code, slow=False)\n",
        "\n",
        "        # Save to file\n",
        "        tts.save(str(audio_path))\n",
        "\n",
        "        return str(audio_path)\n",
        "    except Exception as e:\n",
        "        print(f\"Error generating speech: {e}\")\n",
        "        return None\n",
        "\n",
        "def geolingo_chat(\n",
        "    message: str,\n",
        "    language: str,\n",
        "    location_type: str,\n",
        "    history: List = []\n",
        ") -> Dict:\n",
        "    \"\"\"Chat function with audio generation\"\"\"\n",
        "    try:\n",
        "        system_message = f\"\"\"You are GeoLingo, helping someone learn {language} phrases for {location_type} situations.\n",
        "\n",
        "        Always structure your response exactly like this:\n",
        "        Phrase: [the exact phrase in {language}]\n",
        "        Pronunciation: [romanized pronunciation if needed]\n",
        "        Translation: [English translation]\n",
        "        Example Usage: [a practical example situation]\n",
        "        Cultural Note: [brief cultural context if relevant]\n",
        "\n",
        "        IMPORTANT: Keep the phrase clean without any labels or extra text.\"\"\"\n",
        "\n",
        "        messages = [\n",
        "            {\"role\": \"system\", \"content\": system_message}\n",
        "        ]\n",
        "\n",
        "        if history:\n",
        "            for human, assistant in history:\n",
        "                messages.append({\"role\": \"user\", \"content\": str(human)})\n",
        "                messages.append({\"role\": \"assistant\", \"content\": str(assistant)})\n",
        "\n",
        "        current_message = f\"\"\"User wants to learn how to say: {message}\n",
        "Location: {location_type}\n",
        "Language: {language}\n",
        "\n",
        "Provide a natural, commonly used phrase for this situation.\"\"\"\n",
        "\n",
        "        messages.append({\"role\": \"user\", \"content\": current_message})\n",
        "\n",
        "        # Get response from OpenAI\n",
        "        response = client.chat.completions.create(\n",
        "            model=\"gpt-4\",\n",
        "            messages=messages,\n",
        "            temperature=0.7,\n",
        "            max_tokens=500\n",
        "        )\n",
        "\n",
        "        response_text = response.choices[0].message.content\n",
        "\n",
        "        # Extract just the phrase for audio\n",
        "        try:\n",
        "            # Get the text after \"Phrase:\" but before any newline or pronunciation guide\n",
        "            target_phrase = response_text.split('Phrase:')[1].split('\\n')[0].strip()\n",
        "            target_phrase = target_phrase.split('(')[0].strip()  # Remove any pronunciation guide in parentheses\n",
        "        except:\n",
        "            # Fallback to first line if format is different\n",
        "            target_phrase = response_text.split('\\n')[0].strip()\n",
        "\n",
        "        # Generate audio for the clean phrase\n",
        "        audio_path = text_to_speech(target_phrase, language)\n",
        "\n",
        "        # Format the text response with emojis\n",
        "        formatted_response = response_text.replace('Phrase:', '🗣️ Phrase:')\n",
        "        formatted_response = formatted_response.replace('Pronunciation:', '🔤 Pronunciation:')\n",
        "        formatted_response = formatted_response.replace('Translation:', '📝 Translation:')\n",
        "        formatted_response = formatted_response.replace('Example Usage:', '💬 Example Usage:')\n",
        "        formatted_response = formatted_response.replace('Cultural Note:', '🎌 Cultural Note:')\n",
        "\n",
        "        return {\n",
        "            \"text\": formatted_response,\n",
        "            \"audio\": audio_path\n",
        "        }\n",
        "\n",
        "    except Exception as e:\n",
        "        print(f\"Chat error: {e}\")\n",
        "        return {\n",
        "            \"text\": f\"An error occurred: {str(e)}\",\n",
        "            \"audio\": None\n",
        "        }\n",
        "\n",
        "def chatbot(message: str, language: str, location_type: str, history: List = []):\n",
        "    \"\"\"Chatbot interface with audio support\"\"\"\n",
        "    try:\n",
        "        # First message - show welcome\n",
        "        if not history:\n",
        "            welcome_msg = f\"\"\"👋 Welcome to GeoLingo!\n",
        "\n",
        "I'm your {language} language assistant for {location_type} situations.\n",
        "Ask me how to say anything, and I'll provide:\n",
        "- The phrase in {language}\n",
        "- English translation\n",
        "- Usage examples\n",
        "- Cultural notes (when relevant)\n",
        "\n",
        "What would you like to learn?\"\"\"\n",
        "\n",
        "            history.append((\"\", welcome_msg))\n",
        "            return history, history, None\n",
        "\n",
        "        # Generate response\n",
        "        response = geolingo_chat(message, language, location_type, history)\n",
        "        history.append((message, response[\"text\"]))\n",
        "\n",
        "        return history, history, response[\"audio\"]\n",
        "\n",
        "    except Exception as e:\n",
        "        print(f\"Chatbot error: {e}\")\n",
        "        error_message = f\"Sorry, an error occurred: {str(e)}\"\n",
        "        history.append((message, error_message))\n",
        "        return history, history, None\n",
        "\n",
        "# Create Gradio interface\n",
        "demo = gr.Interface(\n",
        "    fn=chatbot,\n",
        "    inputs=[\n",
        "        gr.Textbox(\n",
        "            label=\"What would you like to say?\",\n",
        "            placeholder=\"e.g., 'How do I order food?' or 'Where is the bathroom?'\"\n",
        "        ),\n",
        "        gr.Dropdown(\n",
        "            choices=list(LANGUAGES.keys()),\n",
        "            label=\"Select Language\",\n",
        "            value=\"Japanese\"\n",
        "        ),\n",
        "        gr.Dropdown(\n",
        "            choices=[\"restaurant\", \"grocery\", \"library\"],\n",
        "            label=\"Location Type\",\n",
        "            value=\"restaurant\"\n",
        "        ),\n",
        "        \"state\"\n",
        "    ],\n",
        "    outputs=[\n",
        "        gr.Chatbot(label=\"GeoLingo Assistant\"),\n",
        "        \"state\",\n",
        "        gr.Audio(label=\"Listen to Pronunciation\")\n",
        "    ],\n",
        "    title=\"GeoLingo\",\n",
        "    description=\"Learn essential phrases with pronunciation! 🗣️🎧\",\n",
        "    examples=[\n",
        "        [\"How do I ask for a table?\", \"Japanese\", \"restaurant\"],\n",
        "        [\"Where is the produce section?\", \"French\", \"grocery\"],\n",
        "        [\"How do I get a library card?\", \"Spanish\", \"library\"]\n",
        "    ],\n",
        "    theme=\"soft\"\n",
        ")\n",
        "\n",
        "# Launch the interface\n",
        "if __name__ == \"__main__\":\n",
        "    try:\n",
        "        print(\"Starting GeoLingo...\")\n",
        "        demo.queue()\n",
        "        demo.launch(share=True)\n",
        "    finally:\n",
        "        # Cleanup temp files\n",
        "        for file in AUDIO_DIR.glob(\"*.mp3\"):\n",
        "            try:\n",
        "                file.unlink()\n",
        "            except Exception as e:\n",
        "                print(f\"Error deleting {file}: {e}\")"
      ],
      "metadata": {
        "colab": {
          "base_uri": "https://localhost:8080/",
          "height": 663
        },
        "id": "YJG4uipUZ9ml",
        "outputId": "a60dd8ad-ee1e-4839-ce0d-d79971d42be6"
      },
      "execution_count": 8,
      "outputs": [
        {
          "output_type": "stream",
          "name": "stderr",
          "text": [
            "/usr/local/lib/python3.10/dist-packages/gradio/components/chatbot.py:237: UserWarning: You have not specified a value for the `type` parameter. Defaulting to the 'tuples' format for chatbot messages, but this is deprecated and will be removed in a future version of Gradio. Please set type='messages' instead, which uses openai-style dictionaries with 'role' and 'content' keys.\n",
            "  warnings.warn(\n"
          ]
        },
        {
          "output_type": "stream",
          "name": "stdout",
          "text": [
            "Starting GeoLingo...\n",
            "Colab notebook detected. To show errors in colab notebook, set debug=True in launch()\n",
            "* Running on public URL: https://744783ea24ef6ab806.gradio.live\n",
            "\n",
            "This share link expires in 72 hours. For free permanent hosting and GPU upgrades, run `gradio deploy` from the terminal in the working directory to deploy to Hugging Face Spaces (https://huggingface.co/spaces)\n"
          ]
        },
        {
          "output_type": "display_data",
          "data": {
            "text/plain": [
              "<IPython.core.display.HTML object>"
            ],
            "text/html": [
              "<div><iframe src=\"https://744783ea24ef6ab806.gradio.live\" width=\"100%\" height=\"500\" allow=\"autoplay; camera; microphone; clipboard-read; clipboard-write;\" frameborder=\"0\" allowfullscreen></iframe></div>"
            ]
          },
          "metadata": {}
        }
      ]
    },
    {
      "cell_type": "code",
      "source": [
        "def fetch_location_mock(user_query: str) -> Dict:\n",
        "    \"\"\"\n",
        "    Mock function to simulate fetching location data.\n",
        "    Replace this with actual backend integration when available.\n",
        "    \"\"\"\n",
        "    # Simulate location data based on query\n",
        "    if \"bank\" in user_query.lower():\n",
        "        return {\"type\": \"bank\", \"name\": \"Scotiabank\"}\n",
        "    elif \"restaurant\" in user_query.lower():\n",
        "        return {\"type\": \"restaurant\", \"name\": \"Italian Bistro\"}\n",
        "    elif \"library\" in user_query.lower():\n",
        "        return {\"type\": \"library\", \"name\": \"City Library\"}\n",
        "    else:\n",
        "        return {\"type\": \"general\", \"name\": \"unknown\"}\n",
        "\n",
        "def chatbot_with_mock_backend(message: str, language: str, history: List = []):\n",
        "    \"\"\"\n",
        "    Chatbot interface using mocked backend data for location.\n",
        "    \"\"\"\n",
        "    try:\n",
        "        # Simulate fetching location data\n",
        "        location_data = fetch_location_mock(message)\n",
        "        location_type = location_data.get(\"type\", \"general\")\n",
        "\n",
        "        # First message - show welcome\n",
        "        if not history:\n",
        "            welcome_msg = f\"\"\"👋 Welcome to GeoLingo!\n",
        "\n",
        "I'm your {language} language assistant for {location_type} situations.\n",
        "Ask me how to say anything, and I'll provide:\n",
        "- The phrase in {language}\n",
        "- Audio pronunciation\n",
        "- English translation\n",
        "- Usage examples\n",
        "- Cultural notes (when relevant)\n",
        "\n",
        "What would you like to learn?\"\"\"\n",
        "\n",
        "            history.append((\"\", welcome_msg))\n",
        "            return history, history, None\n",
        "\n",
        "        # Generate response\n",
        "        response = geolingo_chat(message, language, location_type, history)\n",
        "        history.append((message, response[\"text\"]))\n",
        "\n",
        "        return history, history, response[\"audio\"]\n",
        "\n",
        "    except Exception as e:\n",
        "        print(f\"Chatbot error: {e}\")\n",
        "        error_message = f\"Sorry, an error occurred: {str(e)}\"\n",
        "        history.append((message, error_message))\n",
        "        return history, history, None\n",
        "\n",
        "# Updated Gradio interface\n",
        "demo = gr.Interface(\n",
        "    fn=chatbot_with_mock_backend,\n",
        "    inputs=[\n",
        "        gr.Textbox(\n",
        "            label=\"What would you like to say?\",\n",
        "            placeholder=\"e.g., 'How do I order food?' or 'Where is the bathroom?'\"\n",
        "        ),\n",
        "        gr.Dropdown(\n",
        "            choices=list(LANGUAGES.keys()),\n",
        "            label=\"Select Language\",\n",
        "            value=\"Japanese\"\n",
        "        ),\n",
        "        \"state\"\n",
        "    ],\n",
        "    outputs=[\n",
        "        gr.Chatbot(label=\"GeoLingo Assistant\"),\n",
        "        \"state\",\n",
        "        gr.Audio(label=\"Listen to Pronunciation\")\n",
        "    ],\n",
        "    title=\"GeoLingo\",\n",
        "    description=\"Learn essential phrases with pronunciation! 🗣️🎧\",\n",
        "    examples=[\n",
        "        [\"How do I ask for a table?\", \"Japanese\"],\n",
        "        [\"Where is the produce section?\", \"French\"],\n",
        "        [\"How do I get a library card?\", \"Spanish\"]\n",
        "    ],\n",
        "    theme=\"soft\"\n",
        ")\n",
        "\n",
        "# Launch the interface\n",
        "if __name__ == \"__main__\":\n",
        "    try:\n",
        "        print(\"Starting GeoLingo...\")\n",
        "        demo.queue()\n",
        "        demo.launch(share=True)\n",
        "    finally:\n",
        "        # Cleanup temp files\n",
        "        for file in AUDIO_DIR.glob(\"*.mp3\"):\n",
        "            try:\n",
        "                file.unlink()\n",
        "            except Exception as e:\n",
        "                print(f\"Error deleting {file}: {e}\")\n"
      ],
      "metadata": {
        "colab": {
          "base_uri": "https://localhost:8080/",
          "height": 663
        },
        "id": "lTJLSegFtZPB",
        "outputId": "8a6144bf-cf7c-4568-d57e-ef2dd6165e54"
      },
      "execution_count": 10,
      "outputs": [
        {
          "output_type": "stream",
          "name": "stderr",
          "text": [
            "/usr/local/lib/python3.10/dist-packages/gradio/components/chatbot.py:237: UserWarning: You have not specified a value for the `type` parameter. Defaulting to the 'tuples' format for chatbot messages, but this is deprecated and will be removed in a future version of Gradio. Please set type='messages' instead, which uses openai-style dictionaries with 'role' and 'content' keys.\n",
            "  warnings.warn(\n"
          ]
        },
        {
          "output_type": "stream",
          "name": "stdout",
          "text": [
            "Starting GeoLingo...\n",
            "Colab notebook detected. To show errors in colab notebook, set debug=True in launch()\n",
            "* Running on public URL: https://b028be29b06b25b7a8.gradio.live\n",
            "\n",
            "This share link expires in 72 hours. For free permanent hosting and GPU upgrades, run `gradio deploy` from the terminal in the working directory to deploy to Hugging Face Spaces (https://huggingface.co/spaces)\n"
          ]
        },
        {
          "output_type": "display_data",
          "data": {
            "text/plain": [
              "<IPython.core.display.HTML object>"
            ],
            "text/html": [
              "<div><iframe src=\"https://b028be29b06b25b7a8.gradio.live\" width=\"100%\" height=\"500\" allow=\"autoplay; camera; microphone; clipboard-read; clipboard-write;\" frameborder=\"0\" allowfullscreen></iframe></div>"
            ]
          },
          "metadata": {}
        }
      ]
    }
  ]
}